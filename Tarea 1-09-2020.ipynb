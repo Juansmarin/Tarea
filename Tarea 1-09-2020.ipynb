{
 "cells": [
  {
   "cell_type": "markdown",
   "metadata": {},
   "source": [
    "##  Tarea 1-09-2020\n"
   ]
  },
  {
   "cell_type": "code",
   "execution_count": 1,
   "metadata": {},
   "outputs": [
    {
     "name": "stdout",
     "output_type": "stream",
     "text": [
      "Requirement already satisfied: sympy in c:\\users\\dell\\documents\\andres\\lib\\site-packages (1.4)\n",
      "Requirement already satisfied: mpmath>=0.19 in c:\\users\\dell\\documents\\andres\\lib\\site-packages (from sympy) (1.1.0)\n"
     ]
    }
   ],
   "source": [
    "!pip install sympy "
   ]
  },
  {
   "cell_type": "code",
   "execution_count": 2,
   "metadata": {},
   "outputs": [],
   "source": [
    "from sympy import * \n",
    "from sympy.plotting import *\n",
    "init_printing(use_latex=True)"
   ]
  },
  {
   "cell_type": "markdown",
   "metadata": {},
   "source": [
    "##   Punto 1"
   ]
  },
  {
   "cell_type": "markdown",
   "metadata": {},
   "source": [
    "## 1."
   ]
  },
  {
   "cell_type": "code",
   "execution_count": 3,
   "metadata": {},
   "outputs": [],
   "source": [
    "x,t = symbols(\"x,t\")"
   ]
  },
  {
   "cell_type": "code",
   "execution_count": 4,
   "metadata": {},
   "outputs": [
    {
     "data": {
      "image/png": "[encoded data removed]",
      "text/latex": [
       "$\\displaystyle \\frac{- t + x + 1}{t^{2} + x^{2}}$"
      ],
      "text/plain": [
       "-t + x + 1\n",
       "──────────\n",
       "  2    2  \n",
       " t  + x   "
      ]
     },
     "execution_count": 4,
     "metadata": {},
     "output_type": "execute_result"
    }
   ],
   "source": [
    "f=(x-t+1)/(x**2+t**2)\n",
    "f "
   ]
  },
  {
   "cell_type": "code",
   "execution_count": 5,
   "metadata": {},
   "outputs": [],
   "source": [
    "def evaluar(f,a,b):\n",
    "    z=f.subs([(x,a),(t,b)])\n",
    "    return z"
   ]
  },
  {
   "cell_type": "code",
   "execution_count": 6,
   "metadata": {},
   "outputs": [
    {
     "data": {
      "image/png": "[encoded data removed]",
      "text/latex": [
       "$\\displaystyle \\frac{2}{5}$"
      ],
      "text/plain": [
       "2/5"
      ]
     },
     "execution_count": 6,
     "metadata": {},
     "output_type": "execute_result"
    }
   ],
   "source": [
    "evaluar (f,2,1)"
   ]
  },
  {
   "cell_type": "code",
   "execution_count": 7,
   "metadata": {},
   "outputs": [
    {
     "data": {
      "image/png": "[encoded data removed]",
      "text/latex": [
       "$\\displaystyle 0.378378378378378$"
      ],
      "text/plain": [
       "0.378378378378378"
      ]
     },
     "execution_count": 7,
     "metadata": {},
     "output_type": "execute_result"
    }
   ],
   "source": [
    "evaluar (f,3,0.5)"
   ]
  },
  {
   "cell_type": "code",
   "execution_count": 8,
   "metadata": {},
   "outputs": [
    {
     "data": {
      "image/png": "[encoded data removed]",
      "text/latex": [
       "$\\displaystyle 0$"
      ],
      "text/plain": [
       "0"
      ]
     },
     "execution_count": 8,
     "metadata": {},
     "output_type": "execute_result"
    }
   ],
   "source": [
    "evaluar (f,-1/4,3/4)"
   ]
  },
  {
   "cell_type": "markdown",
   "metadata": {},
   "source": [
    "## 2."
   ]
  },
  {
   "cell_type": "code",
   "execution_count": 9,
   "metadata": {},
   "outputs": [],
   "source": [
    "x,y = symbols(\"x,y\")"
   ]
  },
  {
   "cell_type": "code",
   "execution_count": 12,
   "metadata": {},
   "outputs": [
    {
     "data": {
      "image/png": "[encoded data removed]",
      "text/latex": [
       "$\\displaystyle 3 x^{2} - 5 x y + y^{3}$"
      ],
      "text/plain": [
       "   2            3\n",
       "3⋅x  - 5⋅x⋅y + y "
      ]
     },
     "execution_count": 12,
     "metadata": {},
     "output_type": "execute_result"
    }
   ],
   "source": [
    "f=3*𝑥**2-5*𝑥*𝑦+𝑦**3\n",
    "f"
   ]
  },
  {
   "cell_type": "code",
   "execution_count": 13,
   "metadata": {},
   "outputs": [],
   "source": [
    "def evaluar(f,a,b):\n",
    "    z=f.subs([(x,a),(y,b)])\n",
    "    return z"
   ]
  },
  {
   "cell_type": "code",
   "execution_count": 14,
   "metadata": {},
   "outputs": [
    {
     "data": {
      "image/png": "[encoded data removed]",
      "text/latex": [
       "$\\displaystyle 1$"
      ],
      "text/plain": [
       "1"
      ]
     },
     "execution_count": 14,
     "metadata": {},
     "output_type": "execute_result"
    }
   ],
   "source": [
    "evaluar (f,1,2)"
   ]
  },
  {
   "cell_type": "code",
   "execution_count": 15,
   "metadata": {},
   "outputs": [
    {
     "data": {
      "image/png": "[encoded data removed]",
      "text/latex": [
       "$\\displaystyle -81$"
      ],
      "text/plain": [
       "-81"
      ]
     },
     "execution_count": 15,
     "metadata": {},
     "output_type": "execute_result"
    }
   ],
   "source": [
    "evaluar (f,-1,1-5)"
   ]
  },
  {
   "cell_type": "code",
   "execution_count": 16,
   "metadata": {},
   "outputs": [
    {
     "data": {
      "image/png": "[encoded data removed]",
      "text/latex": [
       "$\\displaystyle 49$"
      ],
      "text/plain": [
       "49"
      ]
     },
     "execution_count": 16,
     "metadata": {},
     "output_type": "execute_result"
    }
   ],
   "source": [
    "evaluar (f,3,-2)"
   ]
  },
  {
   "cell_type": "markdown",
   "metadata": {},
   "source": [
    "## 3."
   ]
  },
  {
   "cell_type": "code",
   "execution_count": 49,
   "metadata": {},
   "outputs": [],
   "source": [
    "x,y = symbols(\"x,y\")"
   ]
  },
  {
   "cell_type": "code",
   "execution_count": 55,
   "metadata": {},
   "outputs": [
    {
     "data": {
      "image/png": "[encoded data removed]",
      "text/latex": [
       "$\\displaystyle e^{2 x^{2} y - 5 x + 2 y}$"
      ],
      "text/plain": [
       "    2              \n",
       " 2⋅x ⋅y - 5⋅x + 2⋅y\n",
       "ℯ                  "
      ]
     },
     "execution_count": 55,
     "metadata": {},
     "output_type": "execute_result"
    }
   ],
   "source": [
    "g= E**(2*x**2*y-5*x+2*y)\n",
    "g"
   ]
  },
  {
   "cell_type": "code",
   "execution_count": 56,
   "metadata": {},
   "outputs": [],
   "source": [
    "def evaluar(g,a,b):\n",
    "    z=g.subs([(x,a),(y,b)])\n",
    "    return z"
   ]
  },
  {
   "cell_type": "code",
   "execution_count": 57,
   "metadata": {},
   "outputs": [
    {
     "data": {
      "image/png": "[encoded data removed]",
      "text/latex": [
       "$\\displaystyle 1$"
      ],
      "text/plain": [
       "1"
      ]
     },
     "execution_count": 57,
     "metadata": {},
     "output_type": "execute_result"
    }
   ],
   "source": [
    "evaluar (g,0,0)"
   ]
  },
  {
   "cell_type": "code",
   "execution_count": 58,
   "metadata": {},
   "outputs": [
    {
     "data": {
      "image/png": "[encoded data removed]",
      "text/latex": [
       "$\\displaystyle e^{9}$"
      ],
      "text/plain": [
       " 9\n",
       "ℯ "
      ]
     },
     "execution_count": 58,
     "metadata": {},
     "output_type": "execute_result"
    }
   ],
   "source": [
    "evaluar (g,-1,1)"
   ]
  },
  {
   "cell_type": "markdown",
   "metadata": {},
   "source": [
    "## 4"
   ]
  },
  {
   "cell_type": "code",
   "execution_count": 54,
   "metadata": {},
   "outputs": [],
   "source": [
    "x,y = symbols(\"x,y\")"
   ]
  },
  {
   "cell_type": "code",
   "execution_count": 65,
   "metadata": {},
   "outputs": [
    {
     "data": {
      "image/png": "[encoded data removed]",
      "text/latex": [
       "$\\displaystyle \\log{\\left(x^{2} + 4 x + y^{2} - 1 \\right)}$"
      ],
      "text/plain": [
       "   ⎛ 2          2    ⎞\n",
       "log⎝x  + 4⋅x + y  - 1⎠"
      ]
     },
     "execution_count": 65,
     "metadata": {},
     "output_type": "execute_result"
    }
   ],
   "source": [
    "h= log(x**2+4*x+y**2-1)\n",
    "h"
   ]
  },
  {
   "cell_type": "code",
   "execution_count": 66,
   "metadata": {},
   "outputs": [],
   "source": [
    "def evaluar(h,a,b):\n",
    "    z=h.subs([(x,a),(y,b)])\n",
    "    return z"
   ]
  },
  {
   "cell_type": "code",
   "execution_count": 67,
   "metadata": {},
   "outputs": [
    {
     "data": {
      "image/png": "[encoded data removed]",
      "text/latex": [
       "$\\displaystyle \\log{\\left(8 \\right)}$"
      ],
      "text/plain": [
       "log(8)"
      ]
     },
     "execution_count": 67,
     "metadata": {},
     "output_type": "execute_result"
    }
   ],
   "source": [
    "evaluar (h,1,2)"
   ]
  },
  {
   "cell_type": "code",
   "execution_count": 69,
   "metadata": {},
   "outputs": [
    {
     "data": {
      "image/png": "[encoded data removed]",
      "text/latex": [
       "$\\displaystyle -0.287682072451781 + i \\pi$"
      ],
      "text/plain": [
       "-0.287682072451781 + ⅈ⋅π"
      ]
     },
     "execution_count": 69,
     "metadata": {},
     "output_type": "execute_result"
    }
   ],
   "source": [
    "evaluar (h,0,-0.5)"
   ]
  },
  {
   "cell_type": "code",
   "execution_count": 70,
   "metadata": {},
   "outputs": [
    {
     "data": {
      "image/png": "[encoded data removed]",
      "text/latex": [
       "$\\displaystyle 0.405465108108164$"
      ],
      "text/plain": [
       "0.405465108108164"
      ]
     },
     "execution_count": 70,
     "metadata": {},
     "output_type": "execute_result"
    }
   ],
   "source": [
    "evaluar (h,1/2,1/2)"
   ]
  },
  {
   "cell_type": "markdown",
   "metadata": {},
   "source": [
    "## Punto 2"
   ]
  },
  {
   "cell_type": "markdown",
   "metadata": {},
   "source": [
    "1. Una empresa produce dos productos, $X$ y $Y$. Las unidades de costos de mano de obra y de materiales\n",
    "   son de 5 dólares en el caso del producto $X$ y de 12 dólares por lo que\n",
    "   respecta a $Y$. Además, la empresa también tiene costos fijos\n",
    "   de  3000 dólares al mes. Exprese el costo mensual $C$ (en dólares)\n",
    "   como una función de las unidades de $X$ y $Y$ producidas.\n",
    "   ¿Cuál es el costo total de producir 200 unidades de $X$ y 150\n",
    "   unidades de $Y$?"
   ]
  },
  {
   "cell_type": "code",
   "execution_count": 95,
   "metadata": {},
   "outputs": [],
   "source": [
    "x,y = symbols(\"x,y\")"
   ]
  },
  {
   "cell_type": "code",
   "execution_count": 97,
   "metadata": {},
   "outputs": [
    {
     "data": {
      "image/png": "[encoded data removed]",
      "text/latex": [
       "$\\displaystyle 5 x + 12 y + 3000$"
      ],
      "text/plain": [
       "5⋅x + 12⋅y + 3000"
      ]
     },
     "execution_count": 97,
     "metadata": {},
     "output_type": "execute_result"
    }
   ],
   "source": [
    "c=5*x+12*y+3000\n",
    "c"
   ]
  },
  {
   "cell_type": "code",
   "execution_count": 98,
   "metadata": {},
   "outputs": [],
   "source": [
    "def evaluar(c,a,b):\n",
    "    z=c.subs([(x,a),(t,b)])\n",
    "    return z"
   ]
  },
  {
   "cell_type": "code",
   "execution_count": 100,
   "metadata": {},
   "outputs": [
    {
     "data": {
      "image/png": "[encoded data removed]",
      "text/latex": [
       "$\\displaystyle 5800$"
      ],
      "text/plain": [
       "5800"
      ]
     },
     "execution_count": 100,
     "metadata": {},
     "output_type": "execute_result"
    }
   ],
   "source": [
    "c.subs([(x,200),(y,150)])\n"
   ]
  },
  {
   "cell_type": "markdown",
   "metadata": {},
   "source": [
    "2. Se lanza un nuevo producto al mercado. El volumen de ventas $x$ se incrementa como una función del tiempo $t$ y depende        también de la cantidad $A$ gastada en la campaña publicitaria. Si, con $t$ medido en meses y A en dólares,\n",
    "   \n",
    "   $$x=200(5-e^{-0.002A})(1-e^{-t})$$\n",
    "   \n",
    "   Determine el volumen de ventas si ha transcurrido 1 mes y la inversión fue de 400 dólares."
   ]
  },
  {
   "cell_type": "code",
   "execution_count": 142,
   "metadata": {},
   "outputs": [
    {
     "data": {
      "image/png": "[encoded data removed]",
      "text/latex": [
       "$\\displaystyle -78840.1598933866 + \\frac{78840.1598933866}{e}$"
      ],
      "text/plain": [
       "                                      -1\n",
       "-78840.1598933866 + 78840.1598933866⋅ℯ  "
      ]
     },
     "execution_count": 142,
     "metadata": {},
     "output_type": "execute_result"
    }
   ],
   "source": [
    "x=200*(5-E**-0.002*400)*(1-E**-1)\n",
    "x"
   ]
  },
  {
   "cell_type": "markdown",
   "metadata": {},
   "source": [
    "3. La función de producción de cierta empresa está dada por\n",
    "   \n",
    "   $$P=5L + 2L^2+ 3LK + 8K + 3K^2$$\n",
    "   \n",
    "   en donde $L$ es el insumo mano de obra medido en miles de horas-hombre por semana, $K$ es el monto de capital invertido        medido en miles de dólares por semana y $P$ es la producción semanal en miles de artículos. Determine la productividad          cuando $L=5$ y $K=12$."
   ]
  },
  {
   "cell_type": "code",
   "execution_count": 107,
   "metadata": {},
   "outputs": [],
   "source": [
    "l,k = symbols(\"l,k\")"
   ]
  },
  {
   "cell_type": "code",
   "execution_count": 109,
   "metadata": {},
   "outputs": [
    {
     "data": {
      "image/png": "[encoded data removed]",
      "text/latex": [
       "$\\displaystyle 3 k^{2} + 3 k l + 8 k + 2 l^{2} + 5 l$"
      ],
      "text/plain": [
       "   2                    2      \n",
       "3⋅k  + 3⋅k⋅l + 8⋅k + 2⋅l  + 5⋅l"
      ]
     },
     "execution_count": 109,
     "metadata": {},
     "output_type": "execute_result"
    }
   ],
   "source": [
    "P=5*l+2*l**2+3*l*k+8*k+3*k**2\n",
    "P"
   ]
  },
  {
   "cell_type": "code",
   "execution_count": 114,
   "metadata": {},
   "outputs": [],
   "source": [
    "def evaluar(P,a,b):\n",
    "    z=P.subs([(l,a),(k,b)])\n",
    "    return z"
   ]
  },
  {
   "cell_type": "code",
   "execution_count": 115,
   "metadata": {},
   "outputs": [
    {
     "data": {
      "image/png": "[encoded data removed]",
      "text/latex": [
       "$\\displaystyle 783$"
      ],
      "text/plain": [
       "783"
      ]
     },
     "execution_count": 115,
     "metadata": {},
     "output_type": "execute_result"
    }
   ],
   "source": [
    "evaluar (P,5,12)"
   ]
  },
  {
   "cell_type": "markdown",
   "metadata": {},
   "source": [
    "4. Suponga que el costo de producción de una empresa que fabrica    dos artículos $A$ y $B$ viene dada por\n",
    "\n",
    "   $$C(x, y) = 1500 -7.5x- 15y-0.3xy+0.3x^2 + 0.2y^2$$\n",
    "\n",
    "   Si la empresa puede vender cada unidad de $A$ a 20 dólares y      cada unidad de $B$ a\n",
    "   16 dólares, encuentre la función de utilidad por la producción    y venta de los articulos $A$ y $B$.\n",
    "   "
   ]
  },
  {
   "cell_type": "code",
   "execution_count": 144,
   "metadata": {},
   "outputs": [],
   "source": [
    "x,y = symbols(\"x,y\")"
   ]
  },
  {
   "cell_type": "code",
   "execution_count": 145,
   "metadata": {},
   "outputs": [
    {
     "data": {
      "image/png": "[encoded data removed]",
      "text/latex": [
       "$\\displaystyle 0.3 x^{2} - 0.3 x y - 7.5 x + 0.2 y^{2} - 15 y + 1500$"
      ],
      "text/plain": [
       "     2                          2              \n",
       "0.3⋅x  - 0.3⋅x⋅y - 7.5⋅x + 0.2⋅y  - 15⋅y + 1500"
      ]
     },
     "execution_count": 145,
     "metadata": {},
     "output_type": "execute_result"
    }
   ],
   "source": [
    "c=1500-7.5*x-15*y-0.3*x*y+0.3*x**2+0.2*y**2\n",
    "c"
   ]
  },
  {
   "cell_type": "code",
   "execution_count": 146,
   "metadata": {},
   "outputs": [
    {
     "data": {
      "image/png": "[encoded data removed]",
      "text/latex": [
       "$\\displaystyle 1185.2$"
      ],
      "text/plain": [
       "1185.2"
      ]
     },
     "execution_count": 146,
     "metadata": {},
     "output_type": "execute_result"
    }
   ],
   "source": [
    "i=1500-7.5*20-15*16-0.3*20*16+0.3*20**2+0.2*16**2\n",
    "i"
   ]
  },
  {
   "cell_type": "code",
   "execution_count": 147,
   "metadata": {},
   "outputs": [
    {
     "data": {
      "image/png": "[encoded data removed]",
      "text/latex": [
       "$\\displaystyle - 0.3 x^{2} + 0.3 x y + 7.5 x - 0.2 y^{2} + 15 y - 314.8$"
      ],
      "text/plain": [
       "       2                          2               \n",
       "- 0.3⋅x  + 0.3⋅x⋅y + 7.5⋅x - 0.2⋅y  + 15⋅y - 314.8"
      ]
     },
     "execution_count": 147,
     "metadata": {},
     "output_type": "execute_result"
    }
   ],
   "source": [
    "u=i-c\n",
    "u"
   ]
  },
  {
   "cell_type": "markdown",
   "metadata": {},
   "source": [
    "5. Juguetes Mónica produce dos tipos diferentes de\n",
    "   cochecitos de plástico con un costo de 300 pesos y 900 pesos      cada uno. Las demandas anuales $x_1$ y $x_2$ (en miles) están    dadas por\n",
    "\n",
    "    $$x_1 = 30 + 2p_2 - 5p_1 \\ \\ \\ \\  y \\ \\ \\ \\ x_2 = 100 + p_1 -     2p_2 $$\n",
    "\n",
    "   con $p_1$ y $p_2$ los precios unitarios (en pesos) de los dos    tipos de cochecitos. Determine la utilidad en función de los      precios $p_1$ y $p_2$. "
   ]
  },
  {
   "cell_type": "code",
   "execution_count": 149,
   "metadata": {},
   "outputs": [],
   "source": [
    "p1,p2 = symbols(\"p1,p2\")"
   ]
  },
  {
   "cell_type": "code",
   "execution_count": 152,
   "metadata": {},
   "outputs": [
    {
     "data": {
      "image/png": "[encoded data removed]",
      "text/latex": [
       "$\\displaystyle - 5 p_{1} + 2 p_{2} + 30$"
      ],
      "text/plain": [
       "-5⋅p₁ + 2⋅p₂ + 30"
      ]
     },
     "execution_count": 152,
     "metadata": {},
     "output_type": "execute_result"
    }
   ],
   "source": [
    "c=30+2*p2-5*p1\n",
    "c"
   ]
  },
  {
   "cell_type": "code",
   "execution_count": 156,
   "metadata": {},
   "outputs": [
    {
     "data": {
      "image/png": "[encoded data removed]",
      "text/latex": [
       "$\\displaystyle 330$"
      ],
      "text/plain": [
       "330"
      ]
     },
     "execution_count": 156,
     "metadata": {},
     "output_type": "execute_result"
    }
   ],
   "source": [
    "i=30+2*900-5*300\n",
    "i"
   ]
  },
  {
   "cell_type": "code",
   "execution_count": 157,
   "metadata": {},
   "outputs": [
    {
     "data": {
      "image/png": "[encoded data removed]",
      "text/latex": [
       "$\\displaystyle - p_{1} + 2 p_{2} + 230$"
      ],
      "text/plain": [
       "-p₁ + 2⋅p₂ + 230"
      ]
     },
     "execution_count": 157,
     "metadata": {},
     "output_type": "execute_result"
    }
   ],
   "source": [
    "u=i-c\n",
    "u"
   ]
  },
  {
   "cell_type": "code",
   "execution_count": 158,
   "metadata": {},
   "outputs": [
    {
     "data": {
      "image/png": "[encoded data removed]",
      "text/latex": [
       "$\\displaystyle p_{1} - 2 p_{2} + 100$"
      ],
      "text/plain": [
       "p₁ - 2⋅p₂ + 100"
      ]
     },
     "execution_count": 158,
     "metadata": {},
     "output_type": "execute_result"
    }
   ],
   "source": [
    "c=100+p1-2*p2\n",
    "c"
   ]
  },
  {
   "cell_type": "code",
   "execution_count": 159,
   "metadata": {},
   "outputs": [
    {
     "data": {
      "image/png": "[encoded data removed]",
      "text/latex": [
       "$\\displaystyle -1400$"
      ],
      "text/plain": [
       "-1400"
      ]
     },
     "execution_count": 159,
     "metadata": {},
     "output_type": "execute_result"
    }
   ],
   "source": [
    "i=100+300-2*900\n",
    "i"
   ]
  },
  {
   "cell_type": "code",
   "execution_count": 160,
   "metadata": {},
   "outputs": [
    {
     "data": {
      "image/png": "[encoded data removed]",
      "text/latex": [
       "$\\displaystyle - p_{1} + 2 p_{2} - 1500$"
      ],
      "text/plain": [
       "-p₁ + 2⋅p₂ - 1500"
      ]
     },
     "execution_count": 160,
     "metadata": {},
     "output_type": "execute_result"
    }
   ],
   "source": [
    "u=i-c\n",
    "u"
   ]
  },
  {
   "cell_type": "markdown",
   "metadata": {},
   "source": [
    "6. Los costos de producción de una empresa que fabrica los artículos $A,\\ B,\\ C$ y $D$ vienen dados por \n",
    "$$C(x,y,z,w)=0.1x+2.2y+1.7z+4w+2xy+0.5zw+2000$$\n",
    "    siendo $x,\\ y,\\ z$ y $w$ la cantidad de artículos producidos de los productos $A,\\ B,\\ C$ y $D$ respectivamente. Halle el costo de fabricar 200 unidades de $A$, 450 de $B$, 635 de $C$, y 1230 de $D$."
   ]
  },
  {
   "cell_type": "code",
   "execution_count": 118,
   "metadata": {},
   "outputs": [],
   "source": [
    "x,y,z,w = symbols(\"x,y,z,w\")"
   ]
  },
  {
   "cell_type": "code",
   "execution_count": 120,
   "metadata": {},
   "outputs": [
    {
     "data": {
      "image/png": "[encoded data removed]",
      "text/latex": [
       "$\\displaystyle 0.5 w z + 4 w + 2 x y + 0.1 x + 2.2 y + 1.7 z + 2000$"
      ],
      "text/plain": [
       "0.5⋅w⋅z + 4⋅w + 2⋅x⋅y + 0.1⋅x + 2.2⋅y + 1.7⋅z + 2000"
      ]
     },
     "execution_count": 120,
     "metadata": {},
     "output_type": "execute_result"
    }
   ],
   "source": [
    "c=0.1*x+2.2*y+1.7*z+4*w+2*x*y+0.5*z*w+2000\n",
    "c"
   ]
  },
  {
   "cell_type": "code",
   "execution_count": 133,
   "metadata": {},
   "outputs": [
    {
     "data": {
      "image/png": "[encoded data removed]",
      "text/latex": [
       "$\\displaystyle 579534.5$"
      ],
      "text/plain": [
       "579534.500000000"
      ]
     },
     "execution_count": 133,
     "metadata": {},
     "output_type": "execute_result"
    }
   ],
   "source": [
    "c.subs([(x,200),(y,450),(z,635),(w,1230)])"
   ]
  },
  {
   "cell_type": "markdown",
   "metadata": {},
   "source": [
    "7. Halle la función de utilidades de la empresa del punto anterior si se sabe que los productos $A,\\ B,\\ C$ y $D$ se pueden vender cada uno a $2\\ ,3\\ ,2$ y $6$ dólares cada uno."
   ]
  },
  {
   "cell_type": "code",
   "execution_count": 134,
   "metadata": {},
   "outputs": [],
   "source": [
    "x,y,z,w = symbols(\"x,y,z,w\")"
   ]
  },
  {
   "cell_type": "code",
   "execution_count": 135,
   "metadata": {},
   "outputs": [
    {
     "data": {
      "image/png": "[encoded data removed]",
      "text/latex": [
       "$\\displaystyle 0.5 w z + 4 w + 2 x y + 0.1 x + 2.2 y + 1.7 z + 2000$"
      ],
      "text/plain": [
       "0.5⋅w⋅z + 4⋅w + 2⋅x⋅y + 0.1⋅x + 2.2⋅y + 1.7⋅z + 2000"
      ]
     },
     "execution_count": 135,
     "metadata": {},
     "output_type": "execute_result"
    }
   ],
   "source": [
    "c=0.1*x+2.2*y+1.7*z+4*w+2*x*y+0.5*z*w+2000\n",
    "c"
   ]
  },
  {
   "cell_type": "code",
   "execution_count": 138,
   "metadata": {},
   "outputs": [
    {
     "data": {
      "image/png": "[encoded data removed]",
      "text/latex": [
       "$\\displaystyle 2052.2$"
      ],
      "text/plain": [
       "2052.2"
      ]
     },
     "execution_count": 138,
     "metadata": {},
     "output_type": "execute_result"
    }
   ],
   "source": [
    "i=0.1*2+2.2*3+1.7*2+4*6+2*2*3+0.5*2*6+2000\n",
    "i"
   ]
  },
  {
   "cell_type": "code",
   "execution_count": 139,
   "metadata": {},
   "outputs": [
    {
     "data": {
      "image/png": "[encoded data removed]",
      "text/latex": [
       "$\\displaystyle - 0.5 w z - 4 w - 2 x y - 0.1 x - 2.2 y - 1.7 z + 52.1999999999998$"
      ],
      "text/plain": [
       "-0.5⋅w⋅z - 4⋅w - 2⋅x⋅y - 0.1⋅x - 2.2⋅y - 1.7⋅z + 52.1999999999998"
      ]
     },
     "execution_count": 139,
     "metadata": {},
     "output_type": "execute_result"
    }
   ],
   "source": [
    "u=i-c\n",
    "u"
   ]
  },
  {
   "cell_type": "markdown",
   "metadata": {},
   "source": [
    "##   Punto 3"
   ]
  },
  {
   "cell_type": "markdown",
   "metadata": {},
   "source": [
    "## 1."
   ]
  },
  {
   "cell_type": "code",
   "execution_count": 71,
   "metadata": {},
   "outputs": [
    {
     "data": {
      "image/png": "[encoded data removed]",
      "text/latex": [
       "$\\displaystyle 3 x^{2} y^{2}$"
      ],
      "text/plain": [
       "   2  2\n",
       "3⋅x ⋅y "
      ]
     },
     "execution_count": 71,
     "metadata": {},
     "output_type": "execute_result"
    }
   ],
   "source": [
    "f=3*x**2*y**2\n",
    "f"
   ]
  },
  {
   "cell_type": "code",
   "execution_count": 72,
   "metadata": {},
   "outputs": [
    {
     "data": {
      "image/png": "[encoded data removed]",
      "text/latex": [
       "$\\displaystyle 6 x y^{2}$"
      ],
      "text/plain": [
       "     2\n",
       "6⋅x⋅y "
      ]
     },
     "execution_count": 72,
     "metadata": {},
     "output_type": "execute_result"
    }
   ],
   "source": [
    "dfx=diff(f,x)\n",
    "dfx"
   ]
  },
  {
   "cell_type": "code",
   "execution_count": 77,
   "metadata": {},
   "outputs": [
    {
     "data": {
      "image/png": "[encoded data removed]",
      "text/latex": [
       "$\\displaystyle 6 x^{2}$"
      ],
      "text/plain": [
       "   2\n",
       "6⋅x "
      ]
     },
     "execution_count": 77,
     "metadata": {},
     "output_type": "execute_result"
    }
   ],
   "source": [
    "dfxy=diff(dfx,y)\n",
    "dfxy"
   ]
  },
  {
   "cell_type": "markdown",
   "metadata": {},
   "source": [
    "## 2."
   ]
  },
  {
   "cell_type": "code",
   "execution_count": 85,
   "metadata": {},
   "outputs": [
    {
     "data": {
      "image/png": "[encoded data removed]",
      "text/latex": [
       "$\\displaystyle \\frac{2 x}{3 x^{2} + 2 y^{3}}$"
      ],
      "text/plain": [
       "    2⋅x    \n",
       "───────────\n",
       "   2      3\n",
       "3⋅x  + 2⋅y "
      ]
     },
     "execution_count": 85,
     "metadata": {},
     "output_type": "execute_result"
    }
   ],
   "source": [
    "g= 2*x/(3*x**2+2*y**3)\n",
    "g"
   ]
  },
  {
   "cell_type": "code",
   "execution_count": 86,
   "metadata": {},
   "outputs": [
    {
     "data": {
      "image/png": "[encoded data removed]",
      "text/latex": [
       "$\\displaystyle - \\frac{12 x^{2}}{\\left(3 x^{2} + 2 y^{3}\\right)^{2}} + \\frac{2}{3 x^{2} + 2 y^{3}}$"
      ],
      "text/plain": [
       "          2                   \n",
       "      12⋅x              2     \n",
       "- ────────────── + ───────────\n",
       "               2      2      3\n",
       "  ⎛   2      3⎞    3⋅x  + 2⋅y \n",
       "  ⎝3⋅x  + 2⋅y ⎠               "
      ]
     },
     "execution_count": 86,
     "metadata": {},
     "output_type": "execute_result"
    }
   ],
   "source": [
    "dgx=diff(g,x)\n",
    "dgx"
   ]
  },
  {
   "cell_type": "code",
   "execution_count": 87,
   "metadata": {},
   "outputs": [
    {
     "data": {
      "image/png": "[encoded data removed]",
      "text/latex": [
       "$\\displaystyle \\frac{144 x^{2} y^{2}}{\\left(3 x^{2} + 2 y^{3}\\right)^{3}} - \\frac{12 y^{2}}{\\left(3 x^{2} + 2 y^{3}\\right)^{2}}$"
      ],
      "text/plain": [
       "       2  2              2     \n",
       "  144⋅x ⋅y           12⋅y      \n",
       "────────────── - ──────────────\n",
       "             3                2\n",
       "⎛   2      3⎞    ⎛   2      3⎞ \n",
       "⎝3⋅x  + 2⋅y ⎠    ⎝3⋅x  + 2⋅y ⎠ "
      ]
     },
     "execution_count": 87,
     "metadata": {},
     "output_type": "execute_result"
    }
   ],
   "source": [
    "dgxy=diff(dgx,y)\n",
    "dgxy"
   ]
  },
  {
   "cell_type": "markdown",
   "metadata": {},
   "source": [
    "## 3."
   ]
  },
  {
   "cell_type": "code",
   "execution_count": 91,
   "metadata": {},
   "outputs": [
    {
     "data": {
      "image/png": "[encoded data removed]",
      "text/latex": [
       "$\\displaystyle e^{2 x + 3 y - 1}$"
      ],
      "text/plain": [
       " 2⋅x + 3⋅y - 1\n",
       "ℯ             "
      ]
     },
     "execution_count": 91,
     "metadata": {},
     "output_type": "execute_result"
    }
   ],
   "source": [
    "h= E**(2*x+3*y-1)\n",
    "h "
   ]
  },
  {
   "cell_type": "code",
   "execution_count": 92,
   "metadata": {},
   "outputs": [
    {
     "data": {
      "image/png": "[encoded data removed]",
      "text/latex": [
       "$\\displaystyle 2 e^{2 x + 3 y - 1}$"
      ],
      "text/plain": [
       "   2⋅x + 3⋅y - 1\n",
       "2⋅ℯ             "
      ]
     },
     "execution_count": 92,
     "metadata": {},
     "output_type": "execute_result"
    }
   ],
   "source": [
    "dhx=diff(h,x)\n",
    "dhx "
   ]
  },
  {
   "cell_type": "code",
   "execution_count": 93,
   "metadata": {},
   "outputs": [
    {
     "data": {
      "image/png": "[encoded data removed]",
      "text/latex": [
       "$\\displaystyle 6 e^{2 x + 3 y - 1}$"
      ],
      "text/plain": [
       "   2⋅x + 3⋅y - 1\n",
       "6⋅ℯ             "
      ]
     },
     "execution_count": 93,
     "metadata": {},
     "output_type": "execute_result"
    }
   ],
   "source": [
    "dhxy=diff(dhx,y)\n",
    "dhxy"
   ]
  },
  {
   "cell_type": "code",
   "execution_count": null,
   "metadata": {},
   "outputs": [],
   "source": []
  }
 ],
 "metadata": {
  "kernelspec": {
   "display_name": "Python 3",
   "language": "python",
   "name": "python3"
  },
  "language_info": {
   "codemirror_mode": {
    "name": "ipython",
    "version": 3
   },
   "file_extension": ".py",
   "mimetype": "text/x-python",
   "name": "python",
   "nbconvert_exporter": "python",
   "pygments_lexer": "ipython3",
   "version": "3.7.4"
  },
  "latex_envs": {
   "LaTeX_envs_menu_present": true,
   "autoclose": false,
   "autocomplete": true,
   "bibliofile": "biblio.bib",
   "cite_by": "apalike",
   "current_citInitial": 1,
   "eqLabelWithNumbers": true,
   "eqNumInitial": 1,
   "hotkeys": {
    "equation": "Ctrl-E",
    "itemize": "Ctrl-I"
   },
   "labels_anchors": false,
   "latex_user_defs": false,
   "report_style_numbering": false,
   "user_envs_cfg": false
  },
  "varInspector": {
   "cols": {
    "lenName": 16,
    "lenType": 16,
    "lenVar": 40
   },
   "kernels_config": {
    "python": {
     "delete_cmd_postfix": "",
     "delete_cmd_prefix": "del ",
     "library": "var_list.py",
     "varRefreshCmd": "print(var_dic_list())"
    },
    "r": {
     "delete_cmd_postfix": ") ",
     "delete_cmd_prefix": "rm(",
     "library": "var_list.r",
     "varRefreshCmd": "cat(var_dic_list()) "
    }
   },
   "types_to_exclude": [
    "module",
    "function",
    "builtin_function_or_method",
    "instance",
    "_Feature"
   ],
   "window_display": false
  }
 },
 "nbformat": 4,
 "nbformat_minor": 2
}
